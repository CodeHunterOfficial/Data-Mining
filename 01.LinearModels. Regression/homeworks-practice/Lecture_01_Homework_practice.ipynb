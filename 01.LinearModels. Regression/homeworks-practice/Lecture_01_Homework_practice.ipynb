{
  "nbformat": 4,
  "nbformat_minor": 0,
  "metadata": {
    "colab": {
      "provenance": [],
      "authorship_tag": "ABX9TyP9dZz0MySRNM0HNqLH3OyA",
      "include_colab_link": true
    },
    "kernelspec": {
      "name": "python3",
      "display_name": "Python 3"
    },
    "language_info": {
      "name": "python"
    }
  },
  "cells": [
    {
      "cell_type": "markdown",
      "metadata": {
        "id": "view-in-github",
        "colab_type": "text"
      },
      "source": [
        "<a href=\"https://colab.research.google.com/github/CodeHunterOfficial/Data-Mining/blob/main/01.LinearModels.%20Regression/Lecture_01_Homework_practice.ipynb\" target=\"_parent\"><img src=\"https://colab.research.google.com/assets/colab-badge.svg\" alt=\"Open In Colab\"/></a>"
      ]
    },
    {
      "cell_type": "markdown",
      "source": [
        "## Задания для практики и самостоятельной работы."
      ],
      "metadata": {
        "id": "D-zqlwjKlvJu"
      }
    },
    {
      "cell_type": "markdown",
      "source": [
        "1) Прочитайте лекционные материалы и запишите в новом документе, или на листе формата A4 или в тетради то, что вы поняли, а также отметьте моменты, которые остались непонятыми.\n",
        "\n",
        "2) Попробуйте изучать библиотеки Python из ресурса https://classroom.google.com/c/NjUwNjMwMzMzMTQ3.\n",
        "\n",
        "3) Посмотрите и попрактикуйтесь с видеороликами из данного плейлиста: https://www.youtube.com/playlist?list=PLUaB-1hjhk8GZOuylZqLz-Qt9RIdZZMBE.\n",
        "\n",
        "4) Выберите датасет с сайта https://www.kaggle.com/datasets и проведите предобработку данных, как показано в видео (https://www.youtube.com/watch?v=GP-2634exqA). Затем постройте различные графики, такие как график корреляции, Q-Plot, Box-Plot и график нормального распределения. Также примените статистические критерии, включая правило 2-х сигм и другие.\n",
        "\n",
        "5) Напишите свое мнение о том, как можно улучшить качество лекции."
      ],
      "metadata": {
        "id": "grkQiBYwgP88"
      }
    }
  ]
}